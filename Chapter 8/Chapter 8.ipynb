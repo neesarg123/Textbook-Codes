{
 "cells": [
  {
   "cell_type": "markdown",
   "metadata": {},
   "source": [
    "## Importing Libraries"
   ]
  },
  {
   "cell_type": "code",
   "execution_count": 60,
   "metadata": {},
   "outputs": [],
   "source": [
    "import scipy\n",
    "from scipy import stats\n",
    "import math\n",
    "import numpy as np"
   ]
  },
  {
   "cell_type": "markdown",
   "metadata": {},
   "source": [
    "__Example 8.3.4__ (Confidence interval for µ when using a large sample) A manufacturing engineer decided\n",
    "to check the efficiency of a new technician hired by the company. She records the time taken by the\n",
    "technician to complete 100 randomly selected jobs and found that in this sample of 100, the average time\n",
    "taken per job was 10 hours with a standard deviation of two hours. Find 95% lower and upper one-sided\n",
    "confidence intervals for µ, the average time taken by a technician to complete one job."
   ]
  },
  {
   "cell_type": "code",
   "execution_count": 119,
   "metadata": {},
   "outputs": [
    {
     "data": {
      "text/plain": [
       "(9.671029274609705, 10.328970725390295)"
      ]
     },
     "execution_count": 119,
     "metadata": {},
     "output_type": "execute_result"
    }
   ],
   "source": [
    "# Normal interval\n",
    "# parameters: alpha = confidence percentage, loc = sample mean, scale = standard error \n",
    "stats.norm.interval(alpha=0.9, loc=10, scale=2/10)"
   ]
  },
  {
   "cell_type": "markdown",
   "metadata": {},
   "source": [
    "### Alternative: making our own function to compute z-intervals (one or two-tailed) "
   ]
  },
  {
   "cell_type": "code",
   "execution_count": 91,
   "metadata": {},
   "outputs": [],
   "source": [
    "def confidence_interval(conf_level, x_bar, stdev, n, alternative='two-sided', mu=0):\n",
    "    alpha = 1 - conf_level / 100\n",
    "    \n",
    "    if alternative == 'two-sided':\n",
    "        half_alpha = alpha / 2\n",
    "        z_val = (x_bar - mu) / (stdev / math.sqrt(n))\n",
    "        z_score = abs(stats.norm.ppf(half_alpha))\n",
    "        interval = (x_bar - z_score * stdev / math.sqrt(n), x_bar + z_score * stdev / math.sqrt(n))\n",
    "        \n",
    "        print(\"Z:\", z_val)\n",
    "        print(\"Z-score:\", str(z_score))\n",
    "        print(\"Interval:\", interval)\n",
    "    \n",
    "    elif alternative == 'left-tail':\n",
    "        z_val = (x_bar - mu) / (stdev / math.sqrt(n))\n",
    "        z_score = stats.norm.ppf(alpha)\n",
    "        interval = (-math.inf, x_bar + z_score * stdev / math.sqrt(n))\n",
    "        \n",
    "        print(\"Z:\", z_val)\n",
    "        print(\"Z-score:\", str(z_score))\n",
    "        print(\"Interval:\", interval)\n",
    "        \n",
    "    elif alternative == 'right-tail':\n",
    "        z_val = (x_bar - mu) / (stdev / math.sqrt(n))\n",
    "        z_score = stats.norm.ppf(alpha)\n",
    "        interval = (x_bar + z_score * stdev / math.sqrt(n), math.inf)\n",
    "        \n",
    "        print(\"Z:\", z_val)\n",
    "        print(\"Z-score:\", str(z_score))\n",
    "        print(\"Interval:\", interval)"
   ]
  },
  {
   "cell_type": "code",
   "execution_count": 92,
   "metadata": {},
   "outputs": [
    {
     "name": "stdout",
     "output_type": "stream",
     "text": [
      "Z: 50.0\n",
      "Z-score: 1.6448536269514729\n",
      "Interval: (9.671029274609705, 10.328970725390295)\n"
     ]
    }
   ],
   "source": [
    "# computing a TWO-SIDED confidence z-interval \n",
    "confidence_interval(90, 10, 2, 100)"
   ]
  },
  {
   "cell_type": "code",
   "execution_count": 93,
   "metadata": {},
   "outputs": [
    {
     "name": "stdout",
     "output_type": "stream",
     "text": [
      "Z: 50.0\n",
      "Z-score: -1.6448536269514722\n",
      "Interval: (-inf, 9.671029274609706)\n"
     ]
    }
   ],
   "source": [
    "# computing a LEFT-TAILED confidence z-interval\n",
    "confidence_interval(95, 10, 2, 100, 'left-tail')"
   ]
  },
  {
   "cell_type": "code",
   "execution_count": 94,
   "metadata": {},
   "outputs": [
    {
     "name": "stdout",
     "output_type": "stream",
     "text": [
      "Z: 50.0\n",
      "Z-score: 1.6448536269514722\n",
      "Interval: (10.328970725390294, inf)\n"
     ]
    }
   ],
   "source": [
    "# computing a RIGHT-TAILED confidence z-interval\n",
    "confidence_interval(5, 10, 2, 100, 'right-tail')"
   ]
  },
  {
   "cell_type": "markdown",
   "metadata": {},
   "source": [
    "__Example 8.3.4__ Consider the following data from a population with an unknown mean µ and unknown\n",
    "standard deviation σ:\n",
    "`\n",
    "23 25 20 16 19 35 42 25 28 29 36 26 27 35 41 30\n",
    "20 24 29 26 37 38 24 26 34 36 38 39 32 33 25 30\n",
    "`\n",
    "\n",
    "Use Python to find a 95% confidence interval for the mean µ."
   ]
  },
  {
   "cell_type": "code",
   "execution_count": 120,
   "metadata": {},
   "outputs": [],
   "source": [
    "x = [23,25,20,16,19,35,42,25,28,29,36,26,27,35,41,30,20,24,29,26,37,38,24,26,34,36,38,39,32,33,25,30]"
   ]
  },
  {
   "cell_type": "code",
   "execution_count": 121,
   "metadata": {},
   "outputs": [
    {
     "data": {
      "text/plain": [
       "(27.296334222765356, 31.953665777234644)"
      ]
     },
     "execution_count": 121,
     "metadata": {},
     "output_type": "execute_result"
    }
   ],
   "source": [
    "stats.norm.interval(alpha=0.95, loc=np.mean(x), scale=np.std(x)/np.sqrt(len(x)))"
   ]
  },
  {
   "cell_type": "code",
   "execution_count": 95,
   "metadata": {},
   "outputs": [
    {
     "name": "stdout",
     "output_type": "stream",
     "text": [
      "Z: 24.934421079074585\n",
      "Z-score: 1.959963984540054\n",
      "Interval: (27.296334222765356, 31.953665777234644)\n"
     ]
    }
   ],
   "source": [
    "confidence_interval(95, np.mean(x), np.std(x), len(x))  # the length (len) of x will give us the sample size"
   ]
  },
  {
   "cell_type": "code",
   "execution_count": 122,
   "metadata": {},
   "outputs": [
    {
     "data": {
      "text/plain": [
       "(27.201820185322063, 32.04817981467794)"
      ]
     },
     "execution_count": 122,
     "metadata": {},
     "output_type": "execute_result"
    }
   ],
   "source": [
    "# t interval \n",
    "# parameters: alpha = confidence percentage, df = degrees of freedom (n - 1), loc = sample mean, scale = standard error\n",
    "\n",
    "stats.t.interval(alpha=0.95, df=len(x) - 1, loc=np.mean(x), scale=np.std(x)/np.sqrt(len(x)))"
   ]
  },
  {
   "cell_type": "markdown",
   "metadata": {},
   "source": [
    "__Example 8.4.2__ (Constructing a confidence interval for $µ_1 − µ_2$ with unknown but equal variances) A sample of $n_1 = 5$ light bulbs of type A gives an average length of life of $\\bar{X_1} = 1000$ hours with a standard deviation of $S_1 = 28$ hours. A sample of $n_2 = 7$ light bulbs of type B, gives $\\bar{X_2} = 980$ hours, and $S_2 = 32$ hours. We assume that the processes are normally distributed with variances $σ_1^2$ and $σ_2^2$ that are equal, that is, $σ_1^2 = σ_2^2 = σ^2$. Find a 99% confidence interval for $µ_1 − µ_2 = µ_A − µ_B$."
   ]
  },
  {
   "cell_type": "code",
   "execution_count": 123,
   "metadata": {},
   "outputs": [
    {
     "data": {
      "text/plain": [
       "Ttest_indResult(statistic=1.1212421273061306, pvalue=0.28838768610572835)"
      ]
     },
     "execution_count": 123,
     "metadata": {},
     "output_type": "execute_result"
    }
   ],
   "source": [
    "stats.ttest_ind_from_stats(mean1=1000, mean2=980, std1=28, std2=32, nobs1=5, nobs2=7, equal_var=True)"
   ]
  },
  {
   "cell_type": "code",
   "execution_count": 148,
   "metadata": {},
   "outputs": [
    {
     "data": {
      "text/plain": [
       "(-37.26734226367309, 77.2673422636731)"
      ]
     },
     "execution_count": 148,
     "metadata": {},
     "output_type": "execute_result"
    }
   ],
   "source": [
    "mean_difference = 1000 - 980\n",
    "z_score = abs(stats.norm.ppf(0.99))\n",
    "# since we are told that population variances are equal for both type A and type B... \n",
    "pooled_standard_error = 28 / np.sqrt(5) + 32 / np.sqrt(7)\n",
    "\n",
    "# calculating the interval\n",
    "interval = (mean_difference - z_score * pooled_standard_error, mean_difference + z_score * pooled_standard_error)\n",
    "interval"
   ]
  },
  {
   "cell_type": "code",
   "execution_count": null,
   "metadata": {},
   "outputs": [],
   "source": []
  }
 ],
 "metadata": {
  "kernelspec": {
   "display_name": "Python 3",
   "language": "python",
   "name": "python3"
  },
  "language_info": {
   "codemirror_mode": {
    "name": "ipython",
    "version": 3
   },
   "file_extension": ".py",
   "mimetype": "text/x-python",
   "name": "python",
   "nbconvert_exporter": "python",
   "pygments_lexer": "ipython3",
   "version": "3.7.4"
  }
 },
 "nbformat": 4,
 "nbformat_minor": 4
}
